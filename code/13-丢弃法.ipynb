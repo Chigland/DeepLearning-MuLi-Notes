{
 "cells": [
  {
   "cell_type": "code",
   "execution_count": 6,
   "id": "d2051b8a",
   "metadata": {},
   "outputs": [],
   "source": [
    "import torch\n",
    "from torch import nn\n",
    "from d2l import torch as d2l\n",
    "\n",
    "def dropout_layer (X,dropout):   #X为dropout层的输入，dropout为设置的丢弃概率\n",
    "    assert 0<=dropout<=1        #丢弃概率介于0，1之间\n",
    "    if dropout == 1:\n",
    "       return torch.zeros_like(X) #若丢弃概率为1，则X的全部项均被置0\n",
    "    if dropout == 0:\n",
    "       return X                   #若丢弃概率为0，不对X作丢弃操作，直接返回X\n",
    "    mask=(torch.Tensor(X.shape).uniform_(0,1)>dropout).float() #用uniform函数生成0-1间的随机实数，利用”>\"，将大于dropout的记为1，小于dropout的记为0，实现丢弃操作\n",
    "    return mask*X/(1-dropout) #将mask与X相乘实现丢弃操作，并除以(1-dropout)，这里不使用选中X中元素置0的原因是相乘操作相比选中操作更快"
   ]
  },
  {
   "cell_type": "code",
   "execution_count": 7,
   "id": "bb0fb14c",
   "metadata": {},
   "outputs": [
    {
     "name": "stdout",
     "output_type": "stream",
     "text": [
      "tensor([[ 0.,  1.,  2.,  3.,  4.,  5.,  6.,  7.],\n",
      "        [ 8.,  9., 10., 11., 12., 13., 14., 15.]])\n",
      "tensor([[ 0.,  1.,  2.,  3.,  4.,  5.,  6.,  7.],\n",
      "        [ 8.,  9., 10., 11., 12., 13., 14., 15.]])\n",
      "tensor([[ 0.,  0.,  4.,  0.,  0., 10.,  0., 14.],\n",
      "        [16., 18., 20.,  0.,  0., 26.,  0., 30.]])\n",
      "tensor([[0., 0., 0., 0., 0., 0., 0., 0.],\n",
      "        [0., 0., 0., 0., 0., 0., 0., 0.]])\n"
     ]
    }
   ],
   "source": [
    "#丢弃法测试\n",
    "X=torch.arange(16,dtype=torch.float32).reshape((2,8))\n",
    "print(X)\n",
    "print(dropout_layer (X,0.))  #丢弃率设置为0\n",
    "print(dropout_layer (X,0.5)) #丢弃率设置为0.5\n",
    "print(dropout_layer (X,1))   #丢弃率设置为1"
   ]
  },
  {
   "cell_type": "code",
   "execution_count": 24,
   "id": "c6e9e663",
   "metadata": {},
   "outputs": [
    {
     "ename": "TypeError",
     "evalue": "__init__() takes 1 positional argument but 5 were given",
     "output_type": "error",
     "traceback": [
      "\u001b[1;31m---------------------------------------------------------------------------\u001b[0m",
      "\u001b[1;31mTypeError\u001b[0m                                 Traceback (most recent call last)",
      "\u001b[1;32m<ipython-input-24-f20bc6a9e4c0>\u001b[0m in \u001b[0;36m<module>\u001b[1;34m\u001b[0m\n\u001b[0;32m     20\u001b[0m        \u001b[1;32mreturn\u001b[0m \u001b[0mout\u001b[0m\u001b[1;33m\u001b[0m\u001b[1;33m\u001b[0m\u001b[0m\n\u001b[0;32m     21\u001b[0m \u001b[1;33m\u001b[0m\u001b[0m\n\u001b[1;32m---> 22\u001b[1;33m \u001b[0mnet\u001b[0m \u001b[1;33m=\u001b[0m \u001b[0mNet\u001b[0m\u001b[1;33m(\u001b[0m\u001b[0mnum_inputs\u001b[0m\u001b[1;33m,\u001b[0m\u001b[0mnum_outputs\u001b[0m\u001b[1;33m,\u001b[0m\u001b[0mnum_hiddens1\u001b[0m\u001b[1;33m,\u001b[0m\u001b[0mnum_hiddens2\u001b[0m\u001b[1;33m)\u001b[0m\u001b[1;33m\u001b[0m\u001b[1;33m\u001b[0m\u001b[0m\n\u001b[0m",
      "\u001b[1;31mTypeError\u001b[0m: __init__() takes 1 positional argument but 5 were given"
     ]
    }
   ],
   "source": [
    "num_inputs, num_outputs, num_hiddens1, num_hiddens2 = 784, 10, 256, 256\n",
    "dropout1, dropout2 = 0.2, 0.5\n",
    "class Net(nn.Module):\n",
    "    def _init_(self,num_inputs,num_outputs,num_hiddens1,num_hiddens2,is_training=True):\n",
    "       super(Net,self)._init_()\n",
    "       self.num_inputs=num_inputs\n",
    "       self.training=is_training\n",
    "       self.lin1=nn.Linear(num_inputs,num_hiddens1)\n",
    "       self.lin2=nn.Linear(num_hiddens1,num_hiddens2)\n",
    "       self.lin2=nn.Linear(num_hiddens2,num_outputs)\n",
    "       self.relu=nn.ReLU()\n",
    "    def forward(self,X):\n",
    "       H1=self.relu(self.lin1(X.reshape((-1,self.num_inputs))))\n",
    "       if self.training == True:  #丢弃法仅在训练中使用\n",
    "           H1=dropout_layer(H1,dropout1)\n",
    "       H2=self.relu(self.lin2(H1))\n",
    "       if self.training == True: #丢弃法仅在训练中使用\n",
    "           H2=dropout_layer(H2,dropout2)\n",
    "       out=self.lin3(H2)  #output层不再使用丢弃法\n",
    "       return out\n",
    "    \n",
    "net = Net(num_inputs,num_outputs,num_hiddens1,num_hiddens2)"
   ]
  },
  {
   "cell_type": "code",
   "execution_count": null,
   "id": "af7ad2f5",
   "metadata": {},
   "outputs": [],
   "source": []
  },
  {
   "cell_type": "code",
   "execution_count": null,
   "id": "d075af29",
   "metadata": {},
   "outputs": [],
   "source": []
  }
 ],
 "metadata": {
  "kernelspec": {
   "display_name": "Python [conda env:py36torch040]",
   "language": "python",
   "name": "conda-env-py36torch040-py"
  },
  "language_info": {
   "codemirror_mode": {
    "name": "ipython",
    "version": 3
   },
   "file_extension": ".py",
   "mimetype": "text/x-python",
   "name": "python",
   "nbconvert_exporter": "python",
   "pygments_lexer": "ipython3",
   "version": "3.6.13"
  }
 },
 "nbformat": 4,
 "nbformat_minor": 5
}
